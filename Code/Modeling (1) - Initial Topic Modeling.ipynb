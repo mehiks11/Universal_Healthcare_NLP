{
 "cells": [
  {
   "cell_type": "markdown",
   "id": "tough-christianity",
   "metadata": {},
   "source": [
    "# Universal Healthcare NLP Project\n",
    "\n",
    "###### This project will explore twitter discussions surrounding the implementation of universal healthcare. The aim will be to create a topic model to display the most common fields of concern for those discussing universal healthcare to better create campaigns and solutions to address any hesitations against it.  \n",
    "\n",
    "This notebook follows the **NMF topic modeling** process post data cleaning."
   ]
  },
  {
   "cell_type": "code",
   "execution_count": 13,
   "id": "lined-musician",
   "metadata": {},
   "outputs": [],
   "source": [
    "#some libraries\n",
    "import pandas as pd\n",
    "import numpy as np\n",
    "#Base and Cleaning \n",
    "import json\n",
    "import requests\n",
    "import emoji\n",
    "import regex\n",
    "import re\n",
    "import string\n",
    "from collections import Counter\n",
    "\n",
    "# #Visualizations\n",
    "# import plotly.express as px\n",
    "# import seaborn as sns\n",
    "# import matplotlib.pyplot as plt \n",
    "# import pyLDAvis.gensim\n",
    "# import chart_studio\n",
    "# import chart_studio.plotly as py \n",
    "# import chart_studio.tools as tls\n",
    "\n",
    "#Natural Language Processing (NLP)\n",
    "import spacy\n",
    "import gensim\n",
    "from spacy.tokenizer import Tokenizer\n",
    "from gensim.corpora import Dictionary\n",
    "from gensim.models.ldamulticore import LdaMulticore\n",
    "from gensim.models.coherencemodel import CoherenceModel\n",
    "from gensim.parsing.preprocessing import STOPWORDS as SW\n",
    "from sklearn.decomposition import LatentDirichletAllocation, TruncatedSVD\n",
    "from sklearn.feature_extraction.text import CountVectorizer, TfidfVectorizer\n",
    "from sklearn.model_selection import GridSearchCV\n",
    "from pprint import pprint\n",
    "from wordcloud import STOPWORDS\n",
    "stopwords = set(STOPWORDS)"
   ]
  },
  {
   "cell_type": "code",
   "execution_count": 14,
   "id": "elementary-delight",
   "metadata": {},
   "outputs": [],
   "source": [
    "#pull in data\n",
    "df = pd.read_csv('/Users/mehikapatel/Universal_Healthcare_NLP/Data/SecondTwitterDF').drop(columns='Unnamed: 0')"
   ]
  },
  {
   "cell_type": "code",
   "execution_count": 15,
   "id": "private-antibody",
   "metadata": {
    "scrolled": false
   },
   "outputs": [
    {
     "name": "stdout",
     "output_type": "stream",
     "text": [
      "<class 'pandas.core.frame.DataFrame'>\n",
      "RangeIndex: 26457 entries, 0 to 26456\n",
      "Data columns (total 13 columns):\n",
      " #   Column               Non-Null Count  Dtype \n",
      "---  ------               --------------  ----- \n",
      " 0   date                 26457 non-null  object\n",
      " 1   timezone             26457 non-null  int64 \n",
      " 2   username             26457 non-null  object\n",
      " 3   day                  26457 non-null  int64 \n",
      " 4   hour                 26457 non-null  int64 \n",
      " 5   nlikes               26457 non-null  int64 \n",
      " 6   reply_to             26457 non-null  object\n",
      " 7   tweet                26457 non-null  object\n",
      " 8   tokens               26457 non-null  object\n",
      " 9   tokens_back_to_text  26454 non-null  object\n",
      " 10  lemmas               26457 non-null  object\n",
      " 11  lemmas_back_to_text  26452 non-null  object\n",
      " 12  lemma_tokens         26457 non-null  object\n",
      "dtypes: int64(4), object(9)\n",
      "memory usage: 2.6+ MB\n"
     ]
    }
   ],
   "source": [
    "df.info()"
   ]
  },
  {
   "cell_type": "markdown",
   "id": "extended-olympus",
   "metadata": {},
   "source": [
    "### Document Term Matrix\n",
    "\n",
    "Preliminary steps before model- vectorize your data."
   ]
  },
  {
   "cell_type": "code",
   "execution_count": 16,
   "id": "acknowledged-south",
   "metadata": {},
   "outputs": [],
   "source": [
    "from sklearn.feature_extraction.text import TfidfVectorizer,CountVectorizer\n",
    "\n",
    "from sklearn.decomposition import NMF\n",
    "from wordcloud import WordCloud, STOPWORDS"
   ]
  },
  {
   "cell_type": "code",
   "execution_count": 17,
   "id": "industrial-vegetarian",
   "metadata": {},
   "outputs": [],
   "source": [
    "stopwords = set(STOPWORDS)\n",
    "\n",
    "stopwords.update(['affordable','universal','healthcare'])"
   ]
  },
  {
   "cell_type": "code",
   "execution_count": 18,
   "id": "assigned-iraqi",
   "metadata": {},
   "outputs": [
    {
     "name": "stderr",
     "output_type": "stream",
     "text": [
      "/Users/mehikapatel/opt/anaconda3/lib/python3.8/site-packages/sklearn/feature_extraction/text.py:388: UserWarning: Your stop_words may be inconsistent with your preprocessing. Tokenizing the stop words generated tokens ['aren', 'couldn', 'didn', 'doesn', 'don', 'hadn', 'hasn', 'haven', 'isn', 'let', 'll', 'mustn', 're', 'shan', 'shouldn', 've', 'wasn', 'weren', 'won', 'wouldn'] not in stop_words.\n",
      "  warnings.warn('Your stop_words may be inconsistent with '\n"
     ]
    }
   ],
   "source": [
    "tfidf = TfidfVectorizer(max_df=.95,min_df=3,stop_words = stopwords,ngram_range=(1,1))\n",
    "dtm = tfidf.fit_transform(df['lemma_tokens'])\n"
   ]
  },
  {
   "cell_type": "markdown",
   "id": "agricultural-litigation",
   "metadata": {},
   "source": [
    "#### Creating an initial NMF model"
   ]
  },
  {
   "cell_type": "code",
   "execution_count": 19,
   "id": "empirical-petersburg",
   "metadata": {},
   "outputs": [
    {
     "name": "stderr",
     "output_type": "stream",
     "text": [
      "/Users/mehikapatel/opt/anaconda3/lib/python3.8/site-packages/sklearn/decomposition/_nmf.py:312: FutureWarning: The 'init' value, when 'init=None' and n_components is less than n_samples and n_features, will be changed from 'nndsvd' to 'nndsvda' in 1.1 (renaming of 0.26).\n",
      "  warnings.warn((\"The 'init' value, when 'init=None' and \"\n"
     ]
    },
    {
     "data": {
      "text/plain": [
       "array([0.01810371, 0.        , 0.        , 0.00167009, 0.00134833])"
      ]
     },
     "execution_count": 19,
     "metadata": {},
     "output_type": "execute_result"
    }
   ],
   "source": [
    "#creating NMF with 5 components\n",
    "\n",
    "nmf_model = NMF(n_components = 5, random_state = 60)\n",
    "\n",
    "#fit/transform dtm\n",
    "#get weights of docs to each doc\n",
    "\n",
    "topics = nmf_model.fit_transform(dtm)\n",
    "\n",
    "topics[15]"
   ]
  },
  {
   "cell_type": "markdown",
   "id": "alpha-threshold",
   "metadata": {},
   "source": [
    "The above shows that the first document likely belongs to the second topic.\n",
    "\n",
    "#### Interpreting Topics:"
   ]
  },
  {
   "cell_type": "code",
   "execution_count": 20,
   "id": "documented-nepal",
   "metadata": {},
   "outputs": [
    {
     "name": "stdout",
     "output_type": "stream",
     "text": [
      "TOP TEN WORDS BY TOPIC: 1\n",
      "['work', 'money', 'israel', 'wage', 'american', 'right', 'country', 'free', 'pay', 'people']\n",
      "\n",
      "\n",
      "TOP TEN WORDS BY TOPIC: 2\n",
      "['education', 'job', 'quality', 'water', 'salary', 'rent', 'road', 'drinking', 'ask', 'good']\n",
      "\n",
      "\n",
      "TOP TEN WORDS BY TOPIC: 3\n",
      "['childcare', 'infrastructure', 'food', 'education', 'fixthecountry', 'job', 'nakufoaddo', 'fortunate', 'housing', 'need']\n",
      "\n",
      "\n",
      "TOP TEN WORDS BY TOPIC: 4\n",
      "['social', 'retrain', 'canada', 'socialist', 'month', 'leave', 'close', '25', 'wage', 'college']\n",
      "\n",
      "\n",
      "TOP TEN WORDS BY TOPIC: 5\n",
      "['quality', 'service', 'need', 'medical', 'system', 'mental', 'access', 'insurance', 'care', 'health']\n",
      "\n",
      "\n"
     ]
    }
   ],
   "source": [
    "#use nmf_model.components_ to get relation of topics to words by viewing top 10 words w highest coefs corresponding to each topic\n",
    "\n",
    "for i, topic in enumerate(nmf_model.components_):\n",
    "    print(f'TOP TEN WORDS BY TOPIC: {i+1}')\n",
    "    print([tfidf.get_feature_names()[i] for i in topic.argsort()[-10:]])\n",
    "    print('\\n')#print new line per topic"
   ]
  },
  {
   "cell_type": "markdown",
   "id": "impressed-equity",
   "metadata": {},
   "source": [
    "### Topic Interpretations:\n",
    "###### Topic 1: Living Costs\n",
    "\n",
    "\n",
    "###### Topic 2: Quality of life\n",
    "\n",
    "\n",
    "###### Topic 3: Infrastrucutre\n",
    "\n",
    "\n",
    "###### Topic 4: Socialism\n",
    "\n",
    "\n",
    "###### Topic 5: Accessibility to Public Services \n",
    "\n",
    "\n",
    "Now we can go in and label our tweets according to these topics to later pull examples of each topic."
   ]
  },
  {
   "cell_type": "code",
   "execution_count": 21,
   "id": "excess-legislation",
   "metadata": {},
   "outputs": [],
   "source": [
    "df['Topic'] = topics.argmax(axis=1)\n",
    "\n",
    "naming={0:'Cost of Living',1:'Quality of Life',2:'Infrastructure',3:'Socialism',4:'Public Services & Accessibility'}\n",
    "\n",
    "df['Topic_name'] = df['Topic'].map(naming)\n"
   ]
  },
  {
   "cell_type": "code",
   "execution_count": 22,
   "id": "confirmed-heritage",
   "metadata": {},
   "outputs": [
    {
     "data": {
      "text/html": [
       "<div>\n",
       "<style scoped>\n",
       "    .dataframe tbody tr th:only-of-type {\n",
       "        vertical-align: middle;\n",
       "    }\n",
       "\n",
       "    .dataframe tbody tr th {\n",
       "        vertical-align: top;\n",
       "    }\n",
       "\n",
       "    .dataframe thead th {\n",
       "        text-align: right;\n",
       "    }\n",
       "</style>\n",
       "<table border=\"1\" class=\"dataframe\">\n",
       "  <thead>\n",
       "    <tr style=\"text-align: right;\">\n",
       "      <th></th>\n",
       "      <th>tweet</th>\n",
       "      <th>Topic_name</th>\n",
       "    </tr>\n",
       "  </thead>\n",
       "  <tbody>\n",
       "    <tr>\n",
       "      <th>0</th>\n",
       "      <td>Lyra on the importance of Medicare and univers...</td>\n",
       "      <td>Infrastructure</td>\n",
       "    </tr>\n",
       "    <tr>\n",
       "      <th>1</th>\n",
       "      <td>@JordanChariton She was right. People don’t wa...</td>\n",
       "      <td>Public Services &amp; Accessibility</td>\n",
       "    </tr>\n",
       "    <tr>\n",
       "      <th>2</th>\n",
       "      <td>@SenTedCruz That’s cool you stand for a countr...</td>\n",
       "      <td>Cost of Living</td>\n",
       "    </tr>\n",
       "    <tr>\n",
       "      <th>3</th>\n",
       "      <td>@JordanChariton Hillary Clinton was 100% ride ...</td>\n",
       "      <td>Public Services &amp; Accessibility</td>\n",
       "    </tr>\n",
       "    <tr>\n",
       "      <th>4</th>\n",
       "      <td>thinking about that guy who was like “if you h...</td>\n",
       "      <td>Cost of Living</td>\n",
       "    </tr>\n",
       "    <tr>\n",
       "      <th>...</th>\n",
       "      <td>...</td>\n",
       "      <td>...</td>\n",
       "    </tr>\n",
       "    <tr>\n",
       "      <th>65</th>\n",
       "      <td>@Guyperson654 @magdalaheals @EventuallyTruth @...</td>\n",
       "      <td>Cost of Living</td>\n",
       "    </tr>\n",
       "    <tr>\n",
       "      <th>66</th>\n",
       "      <td>@rafaelshimunov Need to end privatized medicin...</td>\n",
       "      <td>Infrastructure</td>\n",
       "    </tr>\n",
       "    <tr>\n",
       "      <th>67</th>\n",
       "      <td>@biancoresearch @GlideIsh @arik_shalom Doesn't...</td>\n",
       "      <td>Cost of Living</td>\n",
       "    </tr>\n",
       "    <tr>\n",
       "      <th>68</th>\n",
       "      <td>@PoliticsFan10 What side is the leave me alone...</td>\n",
       "      <td>Socialism</td>\n",
       "    </tr>\n",
       "    <tr>\n",
       "      <th>69</th>\n",
       "      <td>Let's just keep the states that believe in dem...</td>\n",
       "      <td>Cost of Living</td>\n",
       "    </tr>\n",
       "  </tbody>\n",
       "</table>\n",
       "<p>70 rows × 2 columns</p>\n",
       "</div>"
      ],
      "text/plain": [
       "                                                tweet  \\\n",
       "0   Lyra on the importance of Medicare and univers...   \n",
       "1   @JordanChariton She was right. People don’t wa...   \n",
       "2   @SenTedCruz That’s cool you stand for a countr...   \n",
       "3   @JordanChariton Hillary Clinton was 100% ride ...   \n",
       "4   thinking about that guy who was like “if you h...   \n",
       "..                                                ...   \n",
       "65  @Guyperson654 @magdalaheals @EventuallyTruth @...   \n",
       "66  @rafaelshimunov Need to end privatized medicin...   \n",
       "67  @biancoresearch @GlideIsh @arik_shalom Doesn't...   \n",
       "68  @PoliticsFan10 What side is the leave me alone...   \n",
       "69  Let's just keep the states that believe in dem...   \n",
       "\n",
       "                         Topic_name  \n",
       "0                    Infrastructure  \n",
       "1   Public Services & Accessibility  \n",
       "2                    Cost of Living  \n",
       "3   Public Services & Accessibility  \n",
       "4                    Cost of Living  \n",
       "..                              ...  \n",
       "65                   Cost of Living  \n",
       "66                   Infrastructure  \n",
       "67                   Cost of Living  \n",
       "68                        Socialism  \n",
       "69                   Cost of Living  \n",
       "\n",
       "[70 rows x 2 columns]"
      ]
     },
     "execution_count": 22,
     "metadata": {},
     "output_type": "execute_result"
    }
   ],
   "source": [
    "df[['tweet','Topic_name']].head(70)"
   ]
  },
  {
   "cell_type": "code",
   "execution_count": 23,
   "id": "pending-sierra",
   "metadata": {},
   "outputs": [
    {
     "data": {
      "text/plain": [
       "'@PoliticsFan10 What side is the leave me alone but give me universal healthcare side?'"
      ]
     },
     "execution_count": 23,
     "metadata": {},
     "output_type": "execute_result"
    }
   ],
   "source": [
    "# df.iloc[0].tweet #This one fits well in the infrastucture topic!\n",
    "# df.iloc[1].tweet #This one fits well in the PS&A topic! //more about hybrid models\n",
    "# df.iloc[2].tweet #This one fits well in the Cost of living topic! //BETTER WITH RIGHTS\n",
    "# df.iloc[3].tweet #This one fits well in the PS&A topic!\n",
    "# df.iloc[4].tweet #This one fits well in the cost of living topic!//BETTER WITH RIGHTS\n",
    "# df.iloc[5].tweet #This one fits well in the cost of living topic! //Kinda also goes with rights\n",
    "# df.iloc[6].tweet #This one fits well in the cost of living  topic!//BETTER WITH RIGHTS\n",
    "# df.iloc[7].tweet #This one fits well in the cost of living  topic!\n",
    "# df.iloc[8].tweet #This one fits well in the PS&A topic!\n",
    "# df.iloc[9].tweet #This one fits well in the quality of life topic! GOOD ALSO W RIGHTS\n",
    "# df.iloc[10].tweet #This one fits well in the cost of living  topic! it works! lol\n",
    "# df.iloc[11].tweet #This one fits well in the PS&A topic!\n",
    "# df.iloc[12].tweet #This one fits well in the Socialism topic! //BETTER W QUALITY OF LIFE\n",
    "# df.iloc[13].tweet #This one fits well in the infrastucture topic!\n",
    "# df.iloc[14].tweet #This one fits well in the cost of living topic!//QUALITY OF LIFE\n",
    "# df.iloc[15].tweet #This one fits well in the cost of living topic!//QUALITY OF LIFE//INFRASTRUCTURE//POLITICAL\n",
    "# df.iloc[16].tweet #This one fits well in the socialism topic!\n",
    "# df.iloc[17].tweet #This one fits well in the cost of living topic!//POLITICAL\n",
    "# df.iloc[18].tweet #This one fits well in the cost of living topic!//POLITICAL\n",
    "# df.iloc[19].tweet #This one fits well in the cost of living topic!//POLITICAL\n",
    "# df.iloc[20].tweet #This one fits well in the cost of living topic!//INFRASTRUCTURE AND QUALITY OF LIFE\n",
    "df.iloc[68].tweet #This one fits well in the cost of living topic!//INFRASTRUCTURE AND QUALITY OF LIFE"
   ]
  },
  {
   "cell_type": "markdown",
   "id": "editorial-bishop",
   "metadata": {},
   "source": [
    "It seems that a more appropriate label for the originally \"cost of living category\" might be \"political/rights-based\" , seeing as this is a label that encompasses the actual content of these tweets. The original \"socialism\" topic might be more appropriately labeled as \"Comparisons\"-- meaning comparisons to other countries with more \"socialist\" regimes like universal healthcare."
   ]
  },
  {
   "cell_type": "code",
   "execution_count": 24,
   "id": "architectural-fortune",
   "metadata": {},
   "outputs": [],
   "source": [
    "naming={0:'Political/Rights',1:'Quality of Life',2:'Infrastructure',3:'Comparisons',4:'Public Services & Accessibility'}\n",
    "\n",
    "df['Topic_name'] = df['Topic'].map(naming)"
   ]
  },
  {
   "cell_type": "code",
   "execution_count": 25,
   "id": "secondary-neighborhood",
   "metadata": {
    "scrolled": false
   },
   "outputs": [
    {
     "data": {
      "text/html": [
       "<div>\n",
       "<style scoped>\n",
       "    .dataframe tbody tr th:only-of-type {\n",
       "        vertical-align: middle;\n",
       "    }\n",
       "\n",
       "    .dataframe tbody tr th {\n",
       "        vertical-align: top;\n",
       "    }\n",
       "\n",
       "    .dataframe thead th {\n",
       "        text-align: right;\n",
       "    }\n",
       "</style>\n",
       "<table border=\"1\" class=\"dataframe\">\n",
       "  <thead>\n",
       "    <tr style=\"text-align: right;\">\n",
       "      <th></th>\n",
       "      <th>tweet</th>\n",
       "      <th>Topic_name</th>\n",
       "    </tr>\n",
       "  </thead>\n",
       "  <tbody>\n",
       "    <tr>\n",
       "      <th>0</th>\n",
       "      <td>Lyra on the importance of Medicare and univers...</td>\n",
       "      <td>Infrastructure</td>\n",
       "    </tr>\n",
       "    <tr>\n",
       "      <th>1</th>\n",
       "      <td>@JordanChariton She was right. People don’t wa...</td>\n",
       "      <td>Public Services &amp; Accessibility</td>\n",
       "    </tr>\n",
       "    <tr>\n",
       "      <th>2</th>\n",
       "      <td>@SenTedCruz That’s cool you stand for a countr...</td>\n",
       "      <td>Political/Rights</td>\n",
       "    </tr>\n",
       "    <tr>\n",
       "      <th>3</th>\n",
       "      <td>@JordanChariton Hillary Clinton was 100% ride ...</td>\n",
       "      <td>Public Services &amp; Accessibility</td>\n",
       "    </tr>\n",
       "    <tr>\n",
       "      <th>4</th>\n",
       "      <td>thinking about that guy who was like “if you h...</td>\n",
       "      <td>Political/Rights</td>\n",
       "    </tr>\n",
       "  </tbody>\n",
       "</table>\n",
       "</div>"
      ],
      "text/plain": [
       "                                               tweet  \\\n",
       "0  Lyra on the importance of Medicare and univers...   \n",
       "1  @JordanChariton She was right. People don’t wa...   \n",
       "2  @SenTedCruz That’s cool you stand for a countr...   \n",
       "3  @JordanChariton Hillary Clinton was 100% ride ...   \n",
       "4  thinking about that guy who was like “if you h...   \n",
       "\n",
       "                        Topic_name  \n",
       "0                   Infrastructure  \n",
       "1  Public Services & Accessibility  \n",
       "2                 Political/Rights  \n",
       "3  Public Services & Accessibility  \n",
       "4                 Political/Rights  "
      ]
     },
     "execution_count": 25,
     "metadata": {},
     "output_type": "execute_result"
    }
   ],
   "source": [
    "df[['tweet','Topic_name']].head()"
   ]
  },
  {
   "cell_type": "markdown",
   "id": "perfect-value",
   "metadata": {},
   "source": [
    "Now, there is a list of braoder topics, some of which can be sifted out into more specific categories:\n",
    "\n",
    "1. **Politically related** -- Discussions directly pertaining to how politics are involved in decisions about healthcare, about how party lines shape perceptions of universal healthcare, etc.\n",
    "\n",
    "2. **Rights related**-- Discussions about universal healthcare as a human right\n",
    "\n",
    "3. **Quality of life**-- Discussions surrounding healthcare as a part of broader quality of life improvements\n",
    "\n",
    "4. **Infrastrucutre**-- Discussions about american healthcare infrastructure\n",
    "\n",
    "5. **Comparisons**-- Discussions comparing american healthcare and spending infrastructure to other countries\n",
    "\n",
    "6. **Public Services** -- Discussions describing healthcare as a public service, sometimes in efforts to describe it as a publicly funded necessity\n",
    "\n",
    "7. **Accessibility** -- Conversations about accessibility to public services like healthcare"
   ]
  },
  {
   "cell_type": "markdown",
   "id": "rental-norman",
   "metadata": {},
   "source": [
    "*Save the dataframes by topic for future sentiment analysis by topic*"
   ]
  },
  {
   "cell_type": "code",
   "execution_count": 32,
   "id": "supposed-classification",
   "metadata": {},
   "outputs": [
    {
     "data": {
      "text/plain": [
       "Political/Rights                   11550\n",
       "Public Services & Accessibility     9197\n",
       "Infrastructure                      2477\n",
       "Quality of Life                     1719\n",
       "Comparisons                         1514\n",
       "Name: Topic_name, dtype: int64"
      ]
     },
     "execution_count": 32,
     "metadata": {},
     "output_type": "execute_result"
    }
   ],
   "source": [
    "df.Topic_name.value_counts()"
   ]
  },
  {
   "cell_type": "code",
   "execution_count": 35,
   "id": "marine-modern",
   "metadata": {},
   "outputs": [],
   "source": [
    "#t1\n",
    "df[df.Topic_name =='Political/Rights'].to_csv(r'/Users/mehikapatel/Universal_Healthcare_NLP/Data/Topic1DF')\n",
    "#t2\n",
    "df[df.Topic_name =='Public Services & Accessibility'].to_csv(r'/Users/mehikapatel/Universal_Healthcare_NLP/Data/Topic2DF')\n",
    "#t3\n",
    "df[df.Topic_name =='Infrastructure'].to_csv(r'/Users/mehikapatel/Universal_Healthcare_NLP/Data/Topic3DF')\n",
    "#t4\n",
    "df[df.Topic_name =='Quality of Life'].to_csv(r'/Users/mehikapatel/Universal_Healthcare_NLP/Data/Topic4DF')\n",
    "#t5\n",
    "df[df.Topic_name =='Comparisons'].to_csv(r'/Users/mehikapatel/Universal_Healthcare_NLP/Data/Topic5DF')"
   ]
  }
 ],
 "metadata": {
  "kernelspec": {
   "display_name": "Python 3",
   "language": "python",
   "name": "python3"
  },
  "language_info": {
   "codemirror_mode": {
    "name": "ipython",
    "version": 3
   },
   "file_extension": ".py",
   "mimetype": "text/x-python",
   "name": "python",
   "nbconvert_exporter": "python",
   "pygments_lexer": "ipython3",
   "version": "3.8.8"
  }
 },
 "nbformat": 4,
 "nbformat_minor": 5
}
