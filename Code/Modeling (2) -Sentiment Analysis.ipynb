{
 "cells": [
  {
   "cell_type": "markdown",
   "id": "tough-christianity",
   "metadata": {},
   "source": [
    "# Universal Healthcare NLP Project\n",
    "\n",
    "###### This project will explore twitter discussions surrounding the implementation of universal healthcare. The aim will be to create a topic model to display the most common fields of concern for those discussing universal healthcare to better create campaigns and solutions to address any hesitations against it.  \n",
    "\n",
    "This notebook follows adding sentiment analysis on tweets."
   ]
  },
  {
   "cell_type": "code",
   "execution_count": null,
   "id": "complex-campaign",
   "metadata": {},
   "outputs": [],
   "source": [
    "# Import Libraries\n",
    "from textblob import TextBlob\n",
    "import sys\n",
    "import matplotlib.pyplot as plt\n",
    "import pandas as pd\n",
    "import numpy as np\n",
    "import os\n",
    "import nltk\n",
    "import re\n",
    "import string\n",
    "from wordcloud import WordCloud, STOPWORDS\n",
    "from PIL import Image\n",
    "from nltk.sentiment.vader import SentimentIntensityAnalyzer\n",
    "from nltk.stem import SnowballStemmer\n",
    "from nltk.sentiment.vader import SentimentIntensityAnalyzer\n",
    "from sklearn.feature_extraction.text import CountVectorizer\n",
    "import nltk\n",
    "# nltk.downloader.download('vader_lexicon')"
   ]
  },
  {
   "cell_type": "code",
   "execution_count": null,
   "id": "printable-navigator",
   "metadata": {},
   "outputs": [],
   "source": [
    "#pull in data\n",
    "df = pd.read_csv('/Users/mehikapatel/Universal_Healthcare_NLP/Data/SecondTwitterDF').drop(columns='Unnamed: 0')"
   ]
  },
  {
   "cell_type": "code",
   "execution_count": 90,
   "id": "competitive-upper",
   "metadata": {
    "scrolled": true
   },
   "outputs": [
    {
     "data": {
      "text/plain": [
       "0    lyra importance medicare universal healthcare:...\n",
       "1    @jordanchariton right. people don’t forced med...\n",
       "2    @sentedcruz that’s cool stand country universa...\n",
       "3    @jordanchariton hillary clinton 100% ride medi...\n",
       "4    thinking guy “if pick one, pick universal heal...\n",
       "Name: tokens_back_to_text, dtype: object"
      ]
     },
     "execution_count": 90,
     "metadata": {},
     "output_type": "execute_result"
    }
   ],
   "source": [
    "df[\"tweet\"].head()"
   ]
  },
  {
   "cell_type": "code",
   "execution_count": 78,
   "id": "lined-musician",
   "metadata": {},
   "outputs": [],
   "source": [
    "#Calculating Negative, Positive, Neutral and Compound values\n",
    "df[[\"pol\",\"subj\"]] = df[\"tokens_back_to_text\"].apply(lambda Text: pd.Series(TextBlob(str(Text)).sentiment))\n",
    "\n",
    "\n",
    "for index, row in df[\"tokens_back_to_text\"].iteritems():\n",
    "    score = SentimentIntensityAnalyzer().polarity_scores(str(row))\n",
    "    neg = score[\"neg\"]\n",
    "    neu = score[\"neu\"]\n",
    "    pos = score[\"pos\"]\n",
    "    comp = score[\"compound\"]\n",
    "    \n",
    "    if neg > pos:\n",
    "        df.loc[index, \"sentiment\"] = \"negative\"\n",
    "    elif pos > neg:\n",
    "        df.loc[index, \"sentiment\"] = \"positive\"\n",
    "    else:\n",
    "        df.loc[index, \"sentiment\"] = \"neutral\"\n",
    "        df.loc[index, \"neg\"] = neg\n",
    "        df.loc[index, \"neu\"] = neu\n",
    "        df.loc[index, \"pos\"] = pos\n",
    "        df.loc[index, \"compound\"] = comp\n"
   ]
  },
  {
   "cell_type": "code",
   "execution_count": 82,
   "id": "infectious-seeker",
   "metadata": {},
   "outputs": [],
   "source": [
    "#Creating new data frames for all sentiments (positive, negative and neutral)\n",
    "\n",
    "negative_twts = df[df[\"sentiment\"]==\"negative\"]\n",
    "positive_twts = df[df[\"sentiment\"]==\"positive\"]\n",
    "neutral_twts = df[df[\"sentiment\"]==\"neutral\"]"
   ]
  },
  {
   "cell_type": "code",
   "execution_count": 87,
   "id": "elementary-delight",
   "metadata": {},
   "outputs": [
    {
     "data": {
      "text/html": [
       "<div>\n",
       "<style scoped>\n",
       "    .dataframe tbody tr th:only-of-type {\n",
       "        vertical-align: middle;\n",
       "    }\n",
       "\n",
       "    .dataframe tbody tr th {\n",
       "        vertical-align: top;\n",
       "    }\n",
       "\n",
       "    .dataframe thead th {\n",
       "        text-align: right;\n",
       "    }\n",
       "</style>\n",
       "<table border=\"1\" class=\"dataframe\">\n",
       "  <thead>\n",
       "    <tr style=\"text-align: right;\">\n",
       "      <th></th>\n",
       "      <th>Total</th>\n",
       "      <th>Percentage</th>\n",
       "    </tr>\n",
       "  </thead>\n",
       "  <tbody>\n",
       "    <tr>\n",
       "      <th>positive</th>\n",
       "      <td>13913</td>\n",
       "      <td>52.59</td>\n",
       "    </tr>\n",
       "    <tr>\n",
       "      <th>negative</th>\n",
       "      <td>7994</td>\n",
       "      <td>30.22</td>\n",
       "    </tr>\n",
       "    <tr>\n",
       "      <th>neutral</th>\n",
       "      <td>4550</td>\n",
       "      <td>17.20</td>\n",
       "    </tr>\n",
       "  </tbody>\n",
       "</table>\n",
       "</div>"
      ],
      "text/plain": [
       "          Total  Percentage\n",
       "positive  13913       52.59\n",
       "negative   7994       30.22\n",
       "neutral    4550       17.20"
      ]
     },
     "execution_count": 87,
     "metadata": {},
     "output_type": "execute_result"
    }
   ],
   "source": [
    "#Function for count_values_in single columns\n",
    "\n",
    "def count_values_in_column(data,feature):\n",
    "    total=data.loc[:,feature].value_counts(dropna=False)\n",
    "    percentage=round(data.loc[:,feature].value_counts(dropna=False,normalize=True)*100,2)\n",
    "    return pd.concat([total,percentage],axis=1,keys=['Total','Percentage'])\n",
    "\n",
    "#Count_values for sentiment\n",
    "pc = count_values_in_column(df,\"sentiment\")\n",
    "\n",
    "pc"
   ]
  },
  {
   "cell_type": "code",
   "execution_count": 88,
   "id": "subject-choir",
   "metadata": {},
   "outputs": [
    {
     "data": {
      "image/png": "[encoded data removed]",
      "text/plain": [
       "<Figure size 432x288 with 1 Axes>"
      ]
     },
     "metadata": {},
     "output_type": "display_data"
    }
   ],
   "source": [
    "# create data for Pie Chart\n",
    "pichart = count_values_in_column(df,\"sentiment\")\n",
    "names= pc.index\n",
    "size=pc[\"Percentage\"]\n",
    " \n",
    "# Create a circle for the center of the plot\n",
    "my_circle=plt.Circle( (0,0), 0.7, color='white')\n",
    "plt.pie(size, labels=names, colors=['green','blue','red'])\n",
    "p=plt.gcf()\n",
    "p.gca().add_artist(my_circle)\n",
    "plt.show()"
   ]
  },
  {
   "cell_type": "markdown",
   "id": "lasting-market",
   "metadata": {},
   "source": [
    "This is code if I need to save byy sentiment:"
   ]
  },
  {
   "cell_type": "code",
   "execution_count": 91,
   "id": "rough-narrative",
   "metadata": {},
   "outputs": [],
   "source": [
    "# #positive\n",
    "# positive_twts.to_csv(r'/Users/mehikapatel/Universal_Healthcare_NLP/Data/Positive_TwtsDF')\n",
    "# #neutr\n",
    "# neutral_twts.to_csv(r'/Users/mehikapatel/Universal_Healthcare_NLP/Data/Neutral_TwtsDF')\n",
    "# #negative\n",
    "# negative_twts.to_csv(r'/Users/mehikapatel/Universal_Healthcare_NLP/Data/Negative_TwtsDF')"
   ]
  }
 ],
 "metadata": {
  "kernelspec": {
   "display_name": "Python 3",
   "language": "python",
   "name": "python3"
  },
  "language_info": {
   "codemirror_mode": {
    "name": "ipython",
    "version": 3
   },
   "file_extension": ".py",
   "mimetype": "text/x-python",
   "name": "python",
   "nbconvert_exporter": "python",
   "pygments_lexer": "ipython3",
   "version": "3.8.8"
  }
 },
 "nbformat": 4,
 "nbformat_minor": 5
}
